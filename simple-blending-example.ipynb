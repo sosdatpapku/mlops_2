{
 "cells": [
  {
   "cell_type": "code",
   "execution_count": 1,
   "id": "b4098be4",
   "metadata": {
    "_cell_guid": "b1076dfc-b9ad-4769-8c92-a6c4dae69d19",
    "_uuid": "8f2839f25d086af736a60e9eeb907d3b93b6e0e5",
    "execution": {
     "iopub.execute_input": "2022-11-01T03:16:45.694021Z",
     "iopub.status.busy": "2022-11-01T03:16:45.693450Z",
     "iopub.status.idle": "2022-11-01T03:16:46.782211Z",
     "shell.execute_reply": "2022-11-01T03:16:46.780589Z"
    },
    "papermill": {
     "duration": 1.099836,
     "end_time": "2022-11-01T03:16:46.786525",
     "exception": false,
     "start_time": "2022-11-01T03:16:45.686689",
     "status": "completed"
    },
    "tags": []
   },
   "outputs": [],
   "source": [
    "import os\n",
    "import pandas as pd\n",
    "from pathlib import Path\n",
    "\n",
    "from sklearn.metrics import log_loss\n",
    "\n",
    "path = Path('/kaggle/input/tabular-playground-series-nov-2022/')"
   ]
  },
  {
   "cell_type": "markdown",
   "id": "42b01963",
   "metadata": {
    "papermill": {
     "duration": 0.003407,
     "end_time": "2022-11-01T03:16:46.794707",
     "exception": false,
     "start_time": "2022-11-01T03:16:46.791300",
     "status": "completed"
    },
    "tags": []
   },
   "source": [
    "### Read files and info"
   ]
  },
  {
   "cell_type": "code",
   "execution_count": 2,
   "id": "b43e636a",
   "metadata": {
    "execution": {
     "iopub.execute_input": "2022-11-01T03:16:46.807988Z",
     "iopub.status.busy": "2022-11-01T03:16:46.806211Z",
     "iopub.status.idle": "2022-11-01T03:16:47.003970Z",
     "shell.execute_reply": "2022-11-01T03:16:47.002664Z"
    },
    "papermill": {
     "duration": 0.20848,
     "end_time": "2022-11-01T03:16:47.006933",
     "exception": false,
     "start_time": "2022-11-01T03:16:46.798453",
     "status": "completed"
    },
    "tags": []
   },
   "outputs": [],
   "source": [
    "submission = pd.read_csv(path / 'sample_submission.csv', index_col='id')\n",
    "labels = pd.read_csv(path / 'train_labels.csv', index_col='id')\n",
    "\n",
    "# the ids of the submission rows (useful later)\n",
    "sub_ids = submission.index\n",
    "\n",
    "# the ids of the labeled rows (useful later)\n",
    "gt_ids = labels.index \n",
    "\n",
    "# list of files in the submission folder\n",
    "subs = sorted(os.listdir(path / 'submission_files'))"
   ]
  },
  {
   "cell_type": "markdown",
   "id": "11970bca",
   "metadata": {
    "papermill": {
     "duration": 0.003273,
     "end_time": "2022-11-01T03:16:47.013735",
     "exception": false,
     "start_time": "2022-11-01T03:16:47.010462",
     "status": "completed"
    },
    "tags": []
   },
   "source": [
    "### Read in the first submission file (best scoring on labeled rows)"
   ]
  },
  {
   "cell_type": "code",
   "execution_count": 3,
   "id": "9509fef4",
   "metadata": {
    "execution": {
     "iopub.execute_input": "2022-11-01T03:16:47.022226Z",
     "iopub.status.busy": "2022-11-01T03:16:47.021812Z",
     "iopub.status.idle": "2022-11-01T03:16:47.077403Z",
     "shell.execute_reply": "2022-11-01T03:16:47.076130Z"
    },
    "papermill": {
     "duration": 0.062967,
     "end_time": "2022-11-01T03:16:47.080128",
     "exception": false,
     "start_time": "2022-11-01T03:16:47.017161",
     "status": "completed"
    },
    "tags": []
   },
   "outputs": [
    {
     "name": "stdout",
     "output_type": "stream",
     "text": [
      "0.6222863195.csv 0.6222863195\n"
     ]
    }
   ],
   "source": [
    "s0 = pd.read_csv(path / 'submission_files' / subs[0], index_col='id')\n",
    "\n",
    "score = log_loss(labels, s0.loc[gt_ids])\n",
    "\n",
    "# Notice the score of the labeled rows matches the file name\n",
    "print(subs[0], f'{score:.10f}')"
   ]
  },
  {
   "cell_type": "markdown",
   "id": "3f156fc9",
   "metadata": {
    "papermill": {
     "duration": 0.003343,
     "end_time": "2022-11-01T03:16:47.086983",
     "exception": false,
     "start_time": "2022-11-01T03:16:47.083640",
     "status": "completed"
    },
    "tags": []
   },
   "source": [
    "### Same for second submission file"
   ]
  },
  {
   "cell_type": "code",
   "execution_count": 4,
   "id": "b91542a6",
   "metadata": {
    "execution": {
     "iopub.execute_input": "2022-11-01T03:16:47.097861Z",
     "iopub.status.busy": "2022-11-01T03:16:47.097045Z",
     "iopub.status.idle": "2022-11-01T03:16:47.147866Z",
     "shell.execute_reply": "2022-11-01T03:16:47.146639Z"
    },
    "papermill": {
     "duration": 0.059692,
     "end_time": "2022-11-01T03:16:47.150755",
     "exception": false,
     "start_time": "2022-11-01T03:16:47.091063",
     "status": "completed"
    },
    "tags": []
   },
   "outputs": [
    {
     "name": "stdout",
     "output_type": "stream",
     "text": [
      "0.6223807245.csv 0.6223807245\n"
     ]
    }
   ],
   "source": [
    "s1 = pd.read_csv(path / 'submission_files' / subs[1], index_col='id')\n",
    "\n",
    "score = log_loss(labels, s1.loc[gt_ids])\n",
    "\n",
    "print(subs[1], f'{score:.10f}')"
   ]
  },
  {
   "cell_type": "markdown",
   "id": "360baa52",
   "metadata": {
    "papermill": {
     "duration": 0.003434,
     "end_time": "2022-11-01T03:16:47.158540",
     "exception": false,
     "start_time": "2022-11-01T03:16:47.155106",
     "status": "completed"
    },
    "tags": []
   },
   "source": [
    "### Blending the two files\n",
    "\n",
    "Blending `s0` and `s1` gives a local score of 0.60497, which is an improvement from the input files (0.622...)\n"
   ]
  },
  {
   "cell_type": "code",
   "execution_count": 5,
   "id": "908b16e4",
   "metadata": {
    "execution": {
     "iopub.execute_input": "2022-11-01T03:16:47.167532Z",
     "iopub.status.busy": "2022-11-01T03:16:47.167163Z",
     "iopub.status.idle": "2022-11-01T03:16:47.189462Z",
     "shell.execute_reply": "2022-11-01T03:16:47.187971Z"
    },
    "papermill": {
     "duration": 0.03045,
     "end_time": "2022-11-01T03:16:47.192718",
     "exception": false,
     "start_time": "2022-11-01T03:16:47.162268",
     "status": "completed"
    },
    "tags": []
   },
   "outputs": [
    {
     "name": "stdout",
     "output_type": "stream",
     "text": [
      "blend score: 0.6049715910\n"
     ]
    }
   ],
   "source": [
    "blend = (s0 + s1) / 2\n",
    "\n",
    "score = log_loss(labels, blend.loc[gt_ids])\n",
    "\n",
    "print(f'blend score: {score:.10f}')"
   ]
  },
  {
   "cell_type": "markdown",
   "id": "2cfd8d35",
   "metadata": {
    "papermill": {
     "duration": 0.003688,
     "end_time": "2022-11-01T03:16:47.201066",
     "exception": false,
     "start_time": "2022-11-01T03:16:47.197378",
     "status": "completed"
    },
    "tags": []
   },
   "source": [
    "### How does the blend do on the Leaderboard?\n",
    "\n",
    "If you submit the unlabeled rows of `s0` (e.g., 20,000 - 39,000) to the leaderboard, it scores 0.61863. Likewise, `s1` scores 0.62335. How does the blend do?\n",
    "\n",
    "#### It scores 0.60454, which is an improvement!"
   ]
  },
  {
   "cell_type": "code",
   "execution_count": 6,
   "id": "f294076d",
   "metadata": {
    "execution": {
     "iopub.execute_input": "2022-11-01T03:16:47.211303Z",
     "iopub.status.busy": "2022-11-01T03:16:47.210910Z",
     "iopub.status.idle": "2022-11-01T03:16:47.281040Z",
     "shell.execute_reply": "2022-11-01T03:16:47.279366Z"
    },
    "papermill": {
     "duration": 0.080085,
     "end_time": "2022-11-01T03:16:47.284852",
     "exception": false,
     "start_time": "2022-11-01T03:16:47.204767",
     "status": "completed"
    },
    "tags": []
   },
   "outputs": [],
   "source": [
    "blend.loc[sub_ids].to_csv('blend.csv')"
   ]
  }
 ],
 "metadata": {
  "kernelspec": {
   "display_name": "Python 3",
   "language": "python",
   "name": "python3"
  },
  "language_info": {
   "codemirror_mode": {
    "name": "ipython",
    "version": 3
   },
   "file_extension": ".py",
   "mimetype": "text/x-python",
   "name": "python",
   "nbconvert_exporter": "python",
   "pygments_lexer": "ipython3",
   "version": "3.7.12"
  },
  "papermill": {
   "default_parameters": {},
   "duration": 12.337249,
   "end_time": "2022-11-01T03:16:48.117721",
   "environment_variables": {},
   "exception": null,
   "input_path": "__notebook__.ipynb",
   "output_path": "__notebook__.ipynb",
   "parameters": {},
   "start_time": "2022-11-01T03:16:35.780472",
   "version": "2.3.4"
  }
 },
 "nbformat": 4,
 "nbformat_minor": 5
}
